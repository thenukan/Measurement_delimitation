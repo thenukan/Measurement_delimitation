{
 "cells": [
  {
   "cell_type": "code",
   "execution_count": 88,
   "id": "5ec8955e",
   "metadata": {},
   "outputs": [],
   "source": [
    "#import some importent package\n",
    "import json\n",
    "import pandas as pd\n"
   ]
  },
  {
   "cell_type": "code",
   "execution_count": 89,
   "id": "454d3e04",
   "metadata": {},
   "outputs": [],
   "source": [
    "#read CSV file\n",
    "data_f=pd.read_csv(\"Overlap_10Layers_5Cycles_Test_20210323163128209.csv\")\n",
    "datajson = json.load(open(\"C:/Users/admin/Desktop/swissrank/Source_Thenukan_ML/Source_Thenukan_ML/TestRecipeTriggered.json\"))\n",
    "data_frame=data_f"
   ]
  },
  {
   "cell_type": "code",
   "execution_count": 90,
   "id": "ce2877cb",
   "metadata": {},
   "outputs": [],
   "source": [
    "data_frame.columns=['A','B','value1', 'D','value2','F','value3','H','I','J','K','L','m','N','O']"
   ]
  },
  {
   "cell_type": "code",
   "execution_count": 91,
   "id": "c635201d",
   "metadata": {},
   "outputs": [],
   "source": [
    "#Take the necessary Value\n",
    "Thickness_Feature=data_frame[['value1','value2','value3']]\n"
   ]
  },
  {
   "cell_type": "code",
   "execution_count": 92,
   "id": "2696203f",
   "metadata": {},
   "outputs": [],
   "source": [
    "# add to list from data frame\n",
    "value1=[]\n",
    "for i in Thickness_Feature[\"value1\"]:\n",
    "    if i!=0:\n",
    "        value1.append(i)\n",
    "value2=[]\n",
    "for j in Thickness_Feature[\"value2\"]:\n",
    "    if j!=0:\n",
    "        value2.append(j)\n",
    "value3=[]\n",
    "for k in Thickness_Feature[\"value3\"]:\n",
    "   if k!=0 and k!=\"NaN\":\n",
    "        value3.append(k)"
   ]
  },
  {
   "cell_type": "code",
   "execution_count": 93,
   "id": "8fd1c74b",
   "metadata": {},
   "outputs": [],
   "source": [
    "#take random data\n",
    "Value=[]\n",
    "for x in range(0, len(value1), 40):\n",
    "    Value.append(value1[x])\n",
    "for x in range(0, len(value2), 40):\n",
    "    Value.append(value2[x])\n",
    "for x in range(0, len(value3), 40):\n",
    "    Value.append(value3[x])"
   ]
  },
  {
   "cell_type": "code",
   "execution_count": 94,
   "id": "b6a547ce",
   "metadata": {},
   "outputs": [],
   "source": [
    "#drop NaN value\n",
    "newdata_frame=pd.DataFrame(Value).dropna()"
   ]
  },
  {
   "cell_type": "code",
   "execution_count": 95,
   "id": "3b6e179d",
   "metadata": {},
   "outputs": [],
   "source": [
    "from sklearn.utils import shuffle\n",
    "newdata_frame = shuffle(newdata_frame)\n",
    "newdata_frame=pd.concat([newdata_frame,newdata_frame],axis=1)\n",
    "newdata_frame.columns=[\"A\",\"B\"]\n",
    "newdata_frame=newdata_frame.iloc[0:1000,0:2]"
   ]
  },
  {
   "cell_type": "code",
   "execution_count": 96,
   "id": "35a285e2",
   "metadata": {},
   "outputs": [],
   "source": [
    "from sklearn.cluster import DBSCAN #import DBSCAN\n",
    "\n",
    "layers=3\n",
    "\n",
    "\n",
    "for i in range(30,200):\n",
    "\n",
    "    dbscan = DBSCAN(eps =19, min_samples =i ,metric ='euclidean').fit(newdata_frame.values.astype('float32',copy=False))\n",
    "    labels = dbscan.labels_ # getting the labels\n",
    "    if max(labels)==layers-1:\n",
    "        break\n",
    "    "
   ]
  },
  {
   "cell_type": "code",
   "execution_count": 97,
   "id": "eb64326d",
   "metadata": {},
   "outputs": [
    {
     "data": {
      "text/plain": [
       "2"
      ]
     },
     "execution_count": 97,
     "metadata": {},
     "output_type": "execute_result"
    }
   ],
   "source": [
    "max(labels)"
   ]
  },
  {
   "cell_type": "code",
   "execution_count": 98,
   "id": "68fec344",
   "metadata": {},
   "outputs": [],
   "source": [
    "list1=[]\n",
    "list2=[]\n",
    "list3=[]\n",
    "\n",
    "for i in range(len(labels)):\n",
    "    if labels[i]==0:\n",
    "        list1.append(newdata_frame[\"A\"].tolist()[i])\n",
    "    elif labels[i]==1:\n",
    "        list2.append(newdata_frame[\"A\"].tolist()[i])\n",
    "    elif labels[i]==2:\n",
    "        list3.append(newdata_frame[\"A\"].tolist()[i])"
   ]
  },
  {
   "cell_type": "code",
   "execution_count": null,
   "id": "830f3df4",
   "metadata": {},
   "outputs": [],
   "source": []
  },
  {
   "cell_type": "code",
   "execution_count": 99,
   "id": "2860fcab",
   "metadata": {},
   "outputs": [],
   "source": [
    "l=[max(list1),max(list2),max(list3)]\n",
    "l.sort()"
   ]
  },
  {
   "cell_type": "code",
   "execution_count": 100,
   "id": "9b901765",
   "metadata": {},
   "outputs": [
    {
     "name": "stdout",
     "output_type": "stream",
     "text": [
      "335.481079101563 310.392150878906\n",
      "1000.89135742188 993.399597167969\n",
      "2835.78125 2797.73754882813\n"
     ]
    }
   ],
   "source": [
    "l1=[]\n",
    "l2=[]\n",
    "l3=[]\n",
    "for i in range (3):\n",
    "    if i==0:\n",
    "        if l[i] in list1:\n",
    "            l1=list1\n",
    "\n",
    "        elif l[i] in list2:\n",
    "            l1=list2\n",
    "\n",
    "        elif l[i] in list3:\n",
    "            l1=list3\n",
    "    elif i==1:\n",
    "        if l[i] in list1:\n",
    "            l2=list1\n",
    "\n",
    "        elif l[i] in list2:\n",
    "            l2=list2\n",
    "\n",
    "        elif l[i] in list3:\n",
    "            l2=list3\n",
    "    elif i==2:\n",
    "        if l[i] in list1:\n",
    "            l3=list1\n",
    "\n",
    "        elif l[i] in list2:\n",
    "            l3=list2\n",
    "\n",
    "        elif l[i] in list3:\n",
    "            l3=list3\n",
    "\n",
    "print(max(l1),min(l1))\n",
    "print(max(l2),min(l2))\n",
    "print(max(l3),min(l3))\n",
    "\n",
    "\n",
    "\n"
   ]
  },
  {
   "cell_type": "code",
   "execution_count": null,
   "id": "85043632",
   "metadata": {},
   "outputs": [],
   "source": []
  },
  {
   "cell_type": "code",
   "execution_count": 101,
   "id": "d2a0766e",
   "metadata": {},
   "outputs": [],
   "source": [
    "Datas=Thickness_Feature.values"
   ]
  },
  {
   "cell_type": "code",
   "execution_count": 102,
   "id": "85f8a00a",
   "metadata": {},
   "outputs": [],
   "source": [
    "data=pd.read_csv(\"Overlap_10Layers_5Cycles_Test_20210323163128209.csv\")\n",
    "data.columns=['A','B','value1', 'D','value2','F','value3','H','I','J','K','L','m','N','O']\n",
    "data=data[[\"A\",\"B\"]]\n",
    "data['A'] =data['A']/6553.6\n",
    "#df['1'] =df['1'] - 1069419\n",
    "data['B'] =data['B']/6553.6\n",
    "data=data[[\"A\",\"B\"]].to_numpy().tolist()\n"
   ]
  },
  {
   "cell_type": "code",
   "execution_count": 103,
   "id": "10a7cd5d",
   "metadata": {},
   "outputs": [
    {
     "data": {
      "text/plain": [
       "3.7"
      ]
     },
     "execution_count": 103,
     "metadata": {},
     "output_type": "execute_result"
    }
   ],
   "source": [
    "\n",
    "\n",
    "df1 = pd.DataFrame(datajson[\"Layer1\"])\n",
    "df2 = pd.DataFrame(datajson[\"Layer2\"])\n",
    "df3 = pd.DataFrame(datajson[\"Layer3\"])\n",
    "val1_in=float(df1[\"RefarctiveIndexLayer1\"][0])\n",
    "val2_in=float(df2[\"RefarctiveIndexLayer2\"][0])\n",
    "val3_in=float(df3[\"RefarctiveIndexLayer3\"][0])\n",
    "val1_in\n"
   ]
  },
  {
   "cell_type": "code",
   "execution_count": 104,
   "id": "bfd52b27",
   "metadata": {},
   "outputs": [],
   "source": [
    "newdata1=[]\n",
    "newdata2=[]\n",
    "newdata3=[]\n",
    "\n",
    "for i in range(len(Datas)):\n",
    "    Datas[i].sort()\n",
    "    if min(l1)<=Datas[i][0]<=max(l1):\n",
    "        newdata1.append(data[i]+[Datas[i][0]/val1_in]) \n",
    "    if min(l2)<=Datas[i][1]<=max(l2):\n",
    "        newdata2.append(data[i]+[Datas[i][1]/val2_in])\n",
    "    if min(l3)<=Datas[i][2]<=max(l3):\n",
    "        newdata3.append(data[i]+[Datas[i][2]/val3_in])\n",
    "\n"
   ]
  },
  {
   "cell_type": "code",
   "execution_count": 105,
   "id": "45bb5db6",
   "metadata": {},
   "outputs": [],
   "source": [
    "DataFrame1=pd.DataFrame(newdata1,columns=[\"X\",\"Y\",\"Layer1\"])\n",
    "DataFrame2=pd.DataFrame(newdata2,columns=[\"X\",\"Y\",\"Layer1\"])\n",
    "DataFrame3=pd.DataFrame(newdata3,columns=[\"X\",\"Y\",\"Layer1\"])"
   ]
  },
  {
   "cell_type": "code",
   "execution_count": 106,
   "id": "58b8bcfe",
   "metadata": {},
   "outputs": [],
   "source": [
    "DataFrame1.to_csv(\"Overlap_10Layers_5Cycles_Test_20210323163128209_layer1.csv\",index = False)\n",
    "DataFrame2.to_csv(\"Overlap_10Layers_5Cycles_Test_20210323163128209_layer2.csv\",index = False)\n",
    "DataFrame3.to_csv(\"Overlap_10Layers_5Cycles_Test_20210323163128209_layer3.csv\",index = False)\n"
   ]
  },
  {
   "cell_type": "code",
   "execution_count": null,
   "id": "480f74d8",
   "metadata": {},
   "outputs": [],
   "source": []
  }
 ],
 "metadata": {
  "interpreter": {
   "hash": "610a6f344c2137faf927ea819c63f6cee33a2c04455044b28099f39fe9722347"
  },
  "kernelspec": {
   "display_name": "Python 3.9.7 ('base')",
   "language": "python",
   "name": "python3"
  },
  "language_info": {
   "codemirror_mode": {
    "name": "ipython",
    "version": 3
   },
   "file_extension": ".py",
   "mimetype": "text/x-python",
   "name": "python",
   "nbconvert_exporter": "python",
   "pygments_lexer": "ipython3",
   "version": "3.9.7"
  }
 },
 "nbformat": 4,
 "nbformat_minor": 5
}
